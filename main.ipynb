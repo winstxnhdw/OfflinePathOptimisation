{
 "metadata": {
  "language_info": {
   "codemirror_mode": {
    "name": "ipython",
    "version": 3
   },
   "file_extension": ".py",
   "mimetype": "text/x-python",
   "name": "python",
   "nbconvert_exporter": "python",
   "pygments_lexer": "ipython3",
   "version": "3.7.10"
  },
  "orig_nbformat": 2,
  "kernelspec": {
   "name": "python3710jvsc74a57bd051a9663a131f1b5758c45b97a2d6917c8ae86b33e231c3733631cbc7265cfc89",
   "display_name": "Python 3.7.10 64-bit ('base': conda)"
  }
 },
 "nbformat": 4,
 "nbformat_minor": 2,
 "cells": [
  {
   "source": [
    "# OFFLINE PATH PLANNING OPTIMISATION\n",
    "This notebook elaborates the testing and development of an offline path planning optimisation pipeline to generate a safe and feasible reference path for a ego vehicle. The pipeline takes a set of coarsely placed waypoints and adjusts their localisation so as to comply with certain path curvature constraints in view of the vehicle's size and steering capability. The adjusted waypoints should be as close as possible to the original waypoints without violating the curvature constraints."
   ],
   "cell_type": "markdown",
   "metadata": {}
  },
  {
   "source": [
    "### Installation\n",
    "Before beginning, it is important to install all the dependencies to run all cells in this notebook."
   ],
   "cell_type": "markdown",
   "metadata": {}
  },
  {
   "source": [
    "!pip install -r requirements.txt"
   ],
   "cell_type": "markdown",
   "metadata": {}
  },
  {
   "source": [
    "### Imports"
   ],
   "cell_type": "markdown",
   "metadata": {}
  },
  {
   "cell_type": "code",
   "execution_count": 1,
   "metadata": {},
   "outputs": [],
   "source": [
    "import numpy as np\n",
    "import pandas as pd\n",
    "import scipy.interpolate as sp_interp\n",
    "import scipy.optimize as optimize\n",
    "\n",
    "from numba import njit"
   ]
  },
  {
   "source": [
    "### Generating Waypoints\n",
    "To easily generate waypoints for testing, we will use a modified version of my [Waypoint Generator](https://github.com/winstxnhdw/WaypointGenerator) script. The generated waypoints are exported as a CSV file and can be imported again using the pandas library."
   ],
   "cell_type": "markdown",
   "metadata": {}
  },
  {
   "source": [
    "%matplotlib widget\n",
    "\n",
    "import matplotlib.pyplot as plt\n",
    "\n",
    "def onclick(event):\n",
    "\n",
    "    x.append(event.xdata)\n",
    "    y.append(event.ydata)\n",
    "\n",
    "    ax.plot(x, y, '-', color=line_colour)\n",
    "    ax.plot(x, y, '.', color=point_colour)\n",
    "\n",
    "    fig.canvas.draw()\n",
    "\n",
    "    axis = {'X-axis': x, 'Y-axis': y}\n",
    "    df = pd.DataFrame(axis, columns= ['X-axis', 'Y-axis'])\n",
    "    df.to_csv(\"waypoints.csv\", index = False)\n",
    "\n",
    "def onpress(event):\n",
    "\n",
    "    # Undo last point\n",
    "    if event.key == 'z':\n",
    "        try:\n",
    "            x.pop()\n",
    "            y.pop()\n",
    "\n",
    "        except:\n",
    "            pass\n",
    "    \n",
    "    # Clear all the points\n",
    "    elif event.key == 'x':\n",
    "        del x[:]\n",
    "        del y[:]\n",
    "\n",
    "    # Connect the first and last points\n",
    "    elif event.key == 'c':\n",
    "        try:\n",
    "            x.append(x[0])\n",
    "            y.append(y[0])\n",
    "\n",
    "        except:\n",
    "            pass\n",
    "\n",
    "    else:\n",
    "        pass\n",
    "\n",
    "    plt.cla()\n",
    "    plt.grid()\n",
    "    ax.set_xlim(-map_size, map_size)\n",
    "    ax.set_ylim(-map_size, map_size)\n",
    "    ax.plot(x, y, '-', color=line_colour)\n",
    "    ax.plot(x, y, '.', color=point_colour)\n",
    "    fig.canvas.draw()\n",
    "\n",
    "    axis = {'X-axis': x, 'Y-axis': y}\n",
    "    df = pd.DataFrame(axis, columns= ['X-axis', 'Y-axis'])\n",
    "    df.to_csv(\"waypoints.csv\", index = False)\n",
    "\n",
    "# Parameters\n",
    "map_size = 100\n",
    "line_colour = '#F0A39A'\n",
    "point_colour = '#383831'\n",
    "x = []\n",
    "y = []\n",
    "\n",
    "fig = plt.figure()\n",
    "fig.canvas.toolbar_visible = False\n",
    "fig.canvas.header_visible = False\n",
    "fig.canvas.resizable = True\n",
    "fig.canvas.mpl_connect('button_press_event', onclick)\n",
    "fig.canvas.mpl_connect('key_press_event', onpress)\n",
    "\n",
    "ax = plt.axes()\n",
    "ax.set_aspect('equal', adjustable='box')\n",
    "ax.set_xlim(-map_size, map_size)\n",
    "ax.set_ylim(-map_size, map_size)\n",
    "\n",
    "plt.grid()\n",
    "plt.show()"
   ],
   "cell_type": "code",
   "metadata": {},
   "execution_count": 2,
   "outputs": [
    {
     "output_type": "display_data",
     "data": {
      "text/plain": "Canvas(toolbar=Toolbar(toolitems=[('Home', 'Reset original view', 'home', 'home'), ('Back', 'Back to previous …",
      "application/vnd.jupyter.widget-view+json": {
       "version_major": 2,
       "version_minor": 0,
       "model_id": "47bb479b40e44900866370860cb10727"
      }
     },
     "metadata": {}
    }
   ]
  },
  {
   "source": [
    "### Export Notebook as Markdown"
   ],
   "cell_type": "markdown",
   "metadata": {}
  },
  {
   "source": [
    "!jupyter nbconvert main.ipynb --to markdown --output README.md"
   ],
   "cell_type": "markdown",
   "metadata": {}
  }
 ]
}