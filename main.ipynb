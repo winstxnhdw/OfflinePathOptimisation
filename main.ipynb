{
 "metadata": {
  "language_info": {
   "codemirror_mode": {
    "name": "ipython",
    "version": 3
   },
   "file_extension": ".py",
   "mimetype": "text/x-python",
   "name": "python",
   "nbconvert_exporter": "python",
   "pygments_lexer": "ipython3",
   "version": "3.7.10"
  },
  "orig_nbformat": 2,
  "kernelspec": {
   "name": "python3710jvsc74a57bd051a9663a131f1b5758c45b97a2d6917c8ae86b33e231c3733631cbc7265cfc89",
   "display_name": "Python 3.7.10 64-bit ('base': conda)"
  }
 },
 "nbformat": 4,
 "nbformat_minor": 2,
 "cells": [
  {
   "source": [
    "# OFFLINE PATH PLANNING OPTIMISATION\n",
    "This notebook elaborates the testing and development of an offline path planning optimisation pipeline to generate a safe and feasible reference path for a ego vehicle. The pipeline takes a set of coarsely placed waypoints and adjusts their localisation so as to comply with certain path curvature constraints in view of the vehicle's size and steering capability. The adjusted waypoints should be as close as possible to the original waypoints without violating the curvature constraints."
   ],
   "cell_type": "markdown",
   "metadata": {}
  },
  {
   "source": [
    "### Installation\n",
    "Before beginning, it is important to install all the dependencies to run all cells in this notebook."
   ],
   "cell_type": "markdown",
   "metadata": {}
  },
  {
   "source": [
    "!pip install -r requirements.txt"
   ],
   "cell_type": "markdown",
   "metadata": {}
  },
  {
   "source": [
    "### Imports"
   ],
   "cell_type": "markdown",
   "metadata": {}
  },
  {
   "cell_type": "code",
   "execution_count": null,
   "metadata": {},
   "outputs": [],
   "source": [
    "import numpy as np\n",
    "import pandas as pd\n",
    "import scipy.interpolate as sp_interp\n",
    "import scipy.optimize as optimize\n",
    "\n",
    "from numba import njit"
   ]
  },
  {
   "source": [
    "### Generating Waypoints\n",
    "To easily generate waypoints for testing, we will use a modified version of my [Waypoint Generator](https://github.com/winstxnhdw/WaypointGenerator) script. The generated waypoints are exported as a CSV file and can be imported again using the pandas library."
   ],
   "cell_type": "markdown",
   "metadata": {}
  },
  {
   "source": [
    "%matplotlib widget\n",
    "\n",
    "import matplotlib.pyplot as plt\n",
    "\n",
    "class ClickGenerator:\n",
    "\n",
    "    def __init__(self, ax, fig, map_size, line_colour, point_colour):\n",
    "        \n",
    "        self.x = []\n",
    "        self.y = []\n",
    "\n",
    "        self.ax = ax\n",
    "        self.fig = fig\n",
    "        self.map_size = map_size\n",
    "        self.line_colour = line_colour\n",
    "        self.point_colour = point_colour\n",
    "\n",
    "    def generate(self):\n",
    "\n",
    "        def onclick(event):\n",
    "\n",
    "            self.x.append(event.xdata)\n",
    "            self.y.append(event.ydata)\n",
    "\n",
    "            self.ax.plot(self.x, self.y, '-', color=self.line_colour)\n",
    "            self.ax.plot(self.x, self.y, '.', color=self.point_colour)\n",
    "\n",
    "            self.fig.canvas.draw()\n",
    "\n",
    "            axis = {'X-axis': self.x, 'Y-axis': self.y}\n",
    "            df = pd.DataFrame(axis, columns= ['X-axis', 'Y-axis'])\n",
    "            df.to_csv(\"waypoints.csv\", index = False)\n",
    "\n",
    "        def onpress(event):\n",
    "\n",
    "            # Undo last point\n",
    "            if event.key == 'z':\n",
    "                try:\n",
    "                    self.x.pop()\n",
    "                    self.y.pop()\n",
    "\n",
    "                except:\n",
    "                    pass\n",
    "            \n",
    "            # Clear all the points\n",
    "            elif event.key == 'x':\n",
    "                del self.x[:]\n",
    "                del self.y[:]\n",
    "\n",
    "            # Connect the first and last points\n",
    "            elif event.key == 'c':\n",
    "                try:\n",
    "                    self.x.append(self.x[0])\n",
    "                    self.y.append(self.y[0])\n",
    "\n",
    "                except:\n",
    "                    pass\n",
    "        \n",
    "            else:\n",
    "                pass\n",
    "        \n",
    "            plt.cla()\n",
    "            plt.grid()\n",
    "            self.ax.set_xlim(-self.map_size, self.map_size)\n",
    "            self.ax.set_ylim(-self.map_size, self.map_size)\n",
    "            self.ax.plot(self.x, self.y, '-', color=self.line_colour)\n",
    "            self.ax.plot(self.x, self.y, '.', color=self.point_colour)\n",
    "            self.fig.canvas.draw()\n",
    "\n",
    "            axis = {'X-axis': self.x, 'Y-axis': self.y}\n",
    "            df = pd.DataFrame(axis, columns= ['X-axis', 'Y-axis'])\n",
    "            df.to_csv(\"waypoints.csv\", index = False)\n",
    "\n",
    "        self.fig.canvas.mpl_connect('button_press_event', onclick)\n",
    "        self.fig.canvas.mpl_connect('key_press_event', onpress)\n",
    "\n",
    "def main():\n",
    "\n",
    "    # Parameters\n",
    "    map_size = 100\n",
    "    line_colour = '#F0A39A'\n",
    "    point_colour = '#383831'\n",
    "\n",
    "    fig = plt.figure()\n",
    "    ax = plt.axes()\n",
    "    ax.set_aspect('equal', adjustable='box')\n",
    "    ax.set_xlim(-map_size, map_size)\n",
    "    ax.set_ylim(-map_size, map_size)\n",
    "\n",
    "    click_gen = ClickGenerator(ax, fig, map_size, line_colour, point_colour)\n",
    "    click_gen.generate()\n",
    "\n",
    "    plt.grid()\n",
    "    plt.show()\n",
    "\n",
    "if __name__ == '__main__':\n",
    "    main()"
   ],
   "cell_type": "markdown",
   "metadata": {}
  },
  {
   "source": [
    "!jupyter nbconvert main.ipynb --to markdown --output README.md"
   ],
   "cell_type": "markdown",
   "metadata": {}
  }
 ]
}